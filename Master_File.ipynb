{
 "cells": [
  {
   "cell_type": "markdown",
   "metadata": {},
   "source": [
    "# Fortune 500 HQs and Impact on Local Economies"
   ]
  },
  {
   "cell_type": "code",
   "execution_count": null,
   "metadata": {
    "scrolled": true
   },
   "outputs": [],
   "source": [
    "#dependencies\n",
    "import pandas as pd\n",
    "import csv\n",
    "import numpy as np\n",
    "import requests\n",
    "import json\n",
    "import matplotlib.pyplot as plt\n",
    "from config import g_key\n",
    "import geocoder"
   ]
  },
  {
   "cell_type": "code",
   "execution_count": null,
   "metadata": {},
   "outputs": [],
   "source": [
    "#importing fortune 500 HQs\n",
    "fortune500HQ_to_load = \"./Data_Files/Fortune_500.csv\"\n",
    "Fortune_500 = pd.read_csv(fortune500HQ_to_load)\n",
    "\n",
    "Fortune_500.head()"
   ]
  },
  {
   "cell_type": "code",
   "execution_count": null,
   "metadata": {},
   "outputs": [],
   "source": [
    "counties = []\n",
    "\n",
    "for row in range(0, len(Fortune_500)):\n",
    "    city = Fortune_500[\"Hqcity\"][row]\n",
    "    state = Fortune_500[\"Hqstate\"][row]\n",
    "    results = geocoder.google(f\"{city},{state}\", key=g_key)\n",
    "    \n",
    "    # Use conditional to set county equal to city name if no county is available\n",
    "    if type(results.county) != str:\n",
    "        counties.append(f\"{city} City\")\n",
    "    else:\n",
    "        counties.append(results.county)\n",
    "    \n",
    "# Add County column\n",
    "Fortune_500[\"County\"]=counties\n",
    "Fortune_500.head()"
   ]
  },
  {
   "cell_type": "code",
   "execution_count": null,
   "metadata": {
    "scrolled": true
   },
   "outputs": [],
   "source": [
    "# Create empty list to store zip codes\n",
    "zip_codes = []\n",
    "\n",
    "# Loop through dataframe, splitting Address column into strings extracting zip at final index\n",
    "for row in range(0, len(Fortune_500)):\n",
    "    address_split = Fortune_500[\"Address\"][row].split()\n",
    "    zip_codes.append(address_split[-1])\n",
    "    \n",
    "# Add zip code column\n",
    "Fortune_500[\"Zip Code\"] = zip_codes\n",
    "Fortune_500.head()"
   ]
  },
  {
   "cell_type": "code",
   "execution_count": null,
   "metadata": {
    "scrolled": true
   },
   "outputs": [],
   "source": [
    "# Remove unnecessary columns\n",
    "Fortune_500 = Fortune_500[[\"Rank\", \"Title\", \"Sector\", \"Industry\", \"Hqcity\", \"Hqstate\", \"County\", \"Zip Code\", \"Revenues\", \"Profits\", \"Prftchange\"]]\n",
    "\n",
    "# Rename columns\n",
    "Fortune_500 = Fortune_500.rename(index=str, columns={\"Hqcity\": \"City\", \"Hqstate\": \"State\", \"Prftchange\": \"Change in Profits\"})"
   ]
  },
  {
   "cell_type": "code",
   "execution_count": null,
   "metadata": {},
   "outputs": [],
   "source": [
    "Fortune_500.loc[Fortune_500[\"State\"] == \"NY\"]"
   ]
  },
  {
   "cell_type": "markdown",
   "metadata": {},
   "source": [
    "# Eric"
   ]
  },
  {
   "cell_type": "code",
   "execution_count": null,
   "metadata": {
    "scrolled": true
   },
   "outputs": [],
   "source": []
  },
  {
   "cell_type": "markdown",
   "metadata": {},
   "source": [
    "# Carlos"
   ]
  },
  {
   "cell_type": "code",
   "execution_count": null,
   "metadata": {},
   "outputs": [],
   "source": []
  },
  {
   "cell_type": "markdown",
   "metadata": {},
   "source": [
    "# Yissel"
   ]
  },
  {
   "cell_type": "code",
   "execution_count": null,
   "metadata": {},
   "outputs": [],
   "source": []
  },
  {
   "cell_type": "markdown",
   "metadata": {},
   "source": [
    "# Rodrigo"
   ]
  },
  {
   "cell_type": "code",
   "execution_count": null,
   "metadata": {},
   "outputs": [],
   "source": []
  }
 ],
 "metadata": {
  "kernelspec": {
   "display_name": "Python 3",
   "language": "python",
   "name": "python3"
  },
  "language_info": {
   "codemirror_mode": {
    "name": "ipython",
    "version": 3
   },
   "file_extension": ".py",
   "mimetype": "text/x-python",
   "name": "python",
   "nbconvert_exporter": "python",
   "pygments_lexer": "ipython3",
   "version": "3.6.7"
  }
 },
 "nbformat": 4,
 "nbformat_minor": 2
}
